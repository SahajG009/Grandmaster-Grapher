{
 "cells": [
  {
   "cell_type": "markdown",
   "id": "56b2466f-6e59-4f2e-a878-e4ae1e06ca98",
   "metadata": {},
   "source": [
    "# GrandMaster Grapher"
   ]
  },
  {
   "cell_type": "markdown",
   "id": "d384374a-a0c6-462d-b07d-c66befedde0b",
   "metadata": {},
   "source": [
    "## Step 1: Project Overview\n",
    "\n",
    "- Objective: Create a data science project that scrapes chess player ratings from a website, saves the data in a CSV file, and visualizes the ratings using Matplotlib.\r",
    "- \n",
    "Tools and Libraries: Python, Requests, BeautifulSoup, CSV, and Matplotlib."
   ]
  },
  {
   "cell_type": "markdown",
   "id": "6d66739d-89f9-46ed-b459-2e9059bedbb5",
   "metadata": {},
   "source": [
    "### Making a Virtual Environment\n",
    "1. python -m venv gmaster\n",
    "2. .\\gmaster\\Scripts\\activate\n",
    "3. pip install ipykernel\n",
    "4. python -m ipykernel install --name=gmaster"
   ]
  },
  {
   "cell_type": "markdown",
   "id": "cd63b793-663f-41c4-ab0b-10a74ff08eb7",
   "metadata": {},
   "source": [
    "## Step 2: Import Libraries\n",
    "Import the necessary Python libraries:"
   ]
  },
  {
   "cell_type": "code",
   "execution_count": 2,
   "id": "86c4f7b8-b92a-4e21-a1dd-8f0f48079c97",
   "metadata": {
    "collapsed": true,
    "jupyter": {
     "outputs_hidden": true
    }
   },
   "outputs": [
    {
     "name": "stdout",
     "output_type": "stream",
     "text": [
      "Collecting requests\n",
      "  Downloading requests-2.31.0-py3-none-any.whl (62 kB)\n",
      "     ---------------------------------------- 62.6/62.6 kB 1.1 MB/s eta 0:00:00\n",
      "Collecting charset-normalizer<4,>=2\n",
      "  Downloading charset_normalizer-3.3.2-cp311-cp311-win_amd64.whl (99 kB)\n",
      "     -------------------------------------- 99.9/99.9 kB 640.2 kB/s eta 0:00:00\n",
      "Collecting idna<4,>=2.5\n",
      "  Downloading idna-3.6-py3-none-any.whl (61 kB)\n",
      "     ---------------------------------------- 61.6/61.6 kB 1.1 MB/s eta 0:00:00\n",
      "Collecting urllib3<3,>=1.21.1\n",
      "  Downloading urllib3-2.1.0-py3-none-any.whl (104 kB)\n",
      "     ------------------------------------ 104.6/104.6 kB 754.7 kB/s eta 0:00:00\n",
      "Collecting certifi>=2017.4.17\n",
      "  Downloading certifi-2023.11.17-py3-none-any.whl (162 kB)\n",
      "     ------------------------------------ 162.5/162.5 kB 810.1 kB/s eta 0:00:00\n",
      "Installing collected packages: urllib3, idna, charset-normalizer, certifi, requests\n",
      "Successfully installed certifi-2023.11.17 charset-normalizer-3.3.2 idna-3.6 requests-2.31.0 urllib3-2.1.0\n",
      "Note: you may need to restart the kernel to use updated packages.\n"
     ]
    },
    {
     "name": "stderr",
     "output_type": "stream",
     "text": [
      "\n",
      "[notice] A new release of pip available: 22.3 -> 23.3.2\n",
      "[notice] To update, run: python.exe -m pip install --upgrade pip\n"
     ]
    }
   ],
   "source": [
    "pip install requests"
   ]
  },
  {
   "cell_type": "code",
   "execution_count": null,
   "id": "3beadd31-56b4-4a99-9463-7c0a92203f39",
   "metadata": {},
   "outputs": [],
   "source": [
    "pip install bs4"
   ]
  },
  {
   "cell_type": "code",
   "execution_count": 5,
   "id": "11567aaf-55e3-404e-b1ad-a0b0efb025e7",
   "metadata": {},
   "outputs": [],
   "source": [
    "import requests"
   ]
  },
  {
   "cell_type": "code",
   "execution_count": 6,
   "id": "6ed188cf-c8b6-486d-9e39-2bba4e621a74",
   "metadata": {},
   "outputs": [
    {
     "ename": "ModuleNotFoundError",
     "evalue": "No module named 'bs4'",
     "output_type": "error",
     "traceback": [
      "\u001b[1;31m---------------------------------------------------------------------------\u001b[0m",
      "\u001b[1;31mModuleNotFoundError\u001b[0m                       Traceback (most recent call last)",
      "Cell \u001b[1;32mIn[6], line 1\u001b[0m\n\u001b[1;32m----> 1\u001b[0m \u001b[38;5;28;01mfrom\u001b[39;00m \u001b[38;5;21;01mbs4\u001b[39;00m \u001b[38;5;28;01mimport\u001b[39;00m BeautifulSoup\n",
      "\u001b[1;31mModuleNotFoundError\u001b[0m: No module named 'bs4'"
     ]
    }
   ],
   "source": [
    "from bs4 import BeautifulSoup"
   ]
  },
  {
   "cell_type": "code",
   "execution_count": null,
   "id": "0cc315d2-69ff-4452-862a-cf0d4cfefc89",
   "metadata": {},
   "outputs": [],
   "source": [
    "import csv"
   ]
  },
  {
   "cell_type": "code",
   "execution_count": null,
   "id": "26bd6455-90ee-45a9-a542-9e948eb1942e",
   "metadata": {},
   "outputs": [],
   "source": [
    "import matplotlib.pyplot as plt"
   ]
  }
 ],
 "metadata": {
  "kernelspec": {
   "display_name": "gmaster",
   "language": "python",
   "name": "gmaster"
  },
  "language_info": {
   "codemirror_mode": {
    "name": "ipython",
    "version": 3
   },
   "file_extension": ".py",
   "mimetype": "text/x-python",
   "name": "python",
   "nbconvert_exporter": "python",
   "pygments_lexer": "ipython3",
   "version": "3.11.0"
  }
 },
 "nbformat": 4,
 "nbformat_minor": 5
}
