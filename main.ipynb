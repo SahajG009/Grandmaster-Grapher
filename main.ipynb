{
 "cells": [
  {
   "cell_type": "markdown",
   "id": "56b2466f-6e59-4f2e-a878-e4ae1e06ca98",
   "metadata": {},
   "source": [
    "# GrandMaster Grapher"
   ]
  },
  {
   "cell_type": "markdown",
   "id": "d384374a-a0c6-462d-b07d-c66befedde0b",
   "metadata": {},
   "source": [
    "## Step 1: Project Overview\n",
    "\n",
    "- Objective: Create a data science project that scrapes chess player ratings from a website, saves the data in a CSV file, and visualizes the ratings using Matplotlib.\r",
    "- \n",
    "Tools and Libraries: Python, Requests, BeautifulSoup, CSV, and Matplotlib."
   ]
  },
  {
   "cell_type": "markdown",
   "id": "6d66739d-89f9-46ed-b459-2e9059bedbb5",
   "metadata": {},
   "source": [
    "### Making a Virtual Environment\n",
    "1. python -m venv gmaster\n",
    "2. .\\gmaster\\Scripts\\activate\n",
    "3. pip install ipykernel\n",
    "4. python -m ipykernel install --name=gmaster"
   ]
  },
  {
   "cell_type": "markdown",
   "id": "cd63b793-663f-41c4-ab0b-10a74ff08eb7",
   "metadata": {},
   "source": [
    "## Step 2: Import Libraries\n",
    "Import the necessary Python libraries:"
   ]
  },
  {
   "cell_type": "code",
   "execution_count": 2,
   "id": "86c4f7b8-b92a-4e21-a1dd-8f0f48079c97",
   "metadata": {
    "collapsed": true,
    "jupyter": {
     "outputs_hidden": true
    }
   },
   "outputs": [
    {
     "name": "stdout",
     "output_type": "stream",
     "text": [
      "Collecting requests\n",
      "  Downloading requests-2.31.0-py3-none-any.whl (62 kB)\n",
      "     ---------------------------------------- 62.6/62.6 kB 1.1 MB/s eta 0:00:00\n",
      "Collecting charset-normalizer<4,>=2\n",
      "  Downloading charset_normalizer-3.3.2-cp311-cp311-win_amd64.whl (99 kB)\n",
      "     -------------------------------------- 99.9/99.9 kB 640.2 kB/s eta 0:00:00\n",
      "Collecting idna<4,>=2.5\n",
      "  Downloading idna-3.6-py3-none-any.whl (61 kB)\n",
      "     ---------------------------------------- 61.6/61.6 kB 1.1 MB/s eta 0:00:00\n",
      "Collecting urllib3<3,>=1.21.1\n",
      "  Downloading urllib3-2.1.0-py3-none-any.whl (104 kB)\n",
      "     ------------------------------------ 104.6/104.6 kB 754.7 kB/s eta 0:00:00\n",
      "Collecting certifi>=2017.4.17\n",
      "  Downloading certifi-2023.11.17-py3-none-any.whl (162 kB)\n",
      "     ------------------------------------ 162.5/162.5 kB 810.1 kB/s eta 0:00:00\n",
      "Installing collected packages: urllib3, idna, charset-normalizer, certifi, requests\n",
      "Successfully installed certifi-2023.11.17 charset-normalizer-3.3.2 idna-3.6 requests-2.31.0 urllib3-2.1.0\n",
      "Note: you may need to restart the kernel to use updated packages.\n"
     ]
    },
    {
     "name": "stderr",
     "output_type": "stream",
     "text": [
      "\n",
      "[notice] A new release of pip available: 22.3 -> 23.3.2\n",
      "[notice] To update, run: python.exe -m pip install --upgrade pip\n"
     ]
    }
   ],
   "source": [
    "pip install requests"
   ]
  },
  {
   "cell_type": "code",
   "execution_count": 7,
   "id": "3beadd31-56b4-4a99-9463-7c0a92203f39",
   "metadata": {
    "collapsed": true,
    "jupyter": {
     "outputs_hidden": true
    }
   },
   "outputs": [
    {
     "name": "stdout",
     "output_type": "stream",
     "text": [
      "Collecting beautifulsoup4\n",
      "  Downloading beautifulsoup4-4.12.3-py3-none-any.whl (147 kB)\n",
      "     -------------------------------------- 147.9/147.9 kB 1.3 MB/s eta 0:00:00\n",
      "Collecting soupsieve>1.2\n",
      "  Downloading soupsieve-2.5-py3-none-any.whl (36 kB)\n",
      "Installing collected packages: soupsieve, beautifulsoup4\n",
      "Successfully installed beautifulsoup4-4.12.3 soupsieve-2.5\n",
      "Note: you may need to restart the kernel to use updated packages.\n"
     ]
    },
    {
     "name": "stderr",
     "output_type": "stream",
     "text": [
      "\n",
      "[notice] A new release of pip available: 22.3 -> 23.3.2\n",
      "[notice] To update, run: python.exe -m pip install --upgrade pip\n"
     ]
    }
   ],
   "source": [
    "pip install beautifulsoup4"
   ]
  },
  {
   "cell_type": "code",
   "execution_count": 11,
   "id": "a425b49e-4dae-4968-ac83-51de9d48f5a6",
   "metadata": {
    "collapsed": true,
    "jupyter": {
     "outputs_hidden": true
    }
   },
   "outputs": [
    {
     "name": "stdout",
     "output_type": "stream",
     "text": [
      "Collecting matplotlib\n",
      "  Downloading matplotlib-3.8.2-cp311-cp311-win_amd64.whl (7.6 MB)\n",
      "     ---------------------------------------- 7.6/7.6 MB 983.3 kB/s eta 0:00:00\n",
      "Collecting contourpy>=1.0.1\n",
      "  Downloading contourpy-1.2.0-cp311-cp311-win_amd64.whl (187 kB)\n",
      "     -------------------------------------- 187.6/187.6 kB 1.0 MB/s eta 0:00:00\n",
      "Collecting cycler>=0.10\n",
      "  Downloading cycler-0.12.1-py3-none-any.whl (8.3 kB)\n",
      "Collecting fonttools>=4.22.0\n",
      "  Downloading fonttools-4.47.2-cp311-cp311-win_amd64.whl (2.2 MB)\n",
      "     ---------------------------------------- 2.2/2.2 MB 1.2 MB/s eta 0:00:00\n",
      "Collecting kiwisolver>=1.3.1\n",
      "  Downloading kiwisolver-1.4.5-cp311-cp311-win_amd64.whl (56 kB)\n",
      "     ---------------------------------------- 56.1/56.1 kB 1.5 MB/s eta 0:00:00\n",
      "Collecting numpy<2,>=1.21\n",
      "  Downloading numpy-1.26.3-cp311-cp311-win_amd64.whl (15.8 MB)\n",
      "     -------------------------------------- 15.8/15.8 MB 652.8 kB/s eta 0:00:00\n",
      "Requirement already satisfied: packaging>=20.0 in e:\\grandmaster grapher\\gmaster\\lib\\site-packages (from matplotlib) (23.2)\n",
      "Collecting pillow>=8\n",
      "  Downloading pillow-10.2.0-cp311-cp311-win_amd64.whl (2.6 MB)\n",
      "     ---------------------------------------- 2.6/2.6 MB 711.1 kB/s eta 0:00:00\n",
      "Collecting pyparsing>=2.3.1\n",
      "  Downloading pyparsing-3.1.1-py3-none-any.whl (103 kB)\n",
      "     ------------------------------------ 103.1/103.1 kB 743.2 kB/s eta 0:00:00\n",
      "Requirement already satisfied: python-dateutil>=2.7 in e:\\grandmaster grapher\\gmaster\\lib\\site-packages (from matplotlib) (2.8.2)\n",
      "Requirement already satisfied: six>=1.5 in e:\\grandmaster grapher\\gmaster\\lib\\site-packages (from python-dateutil>=2.7->matplotlib) (1.16.0)\n",
      "Installing collected packages: pyparsing, pillow, numpy, kiwisolver, fonttools, cycler, contourpy, matplotlib\n",
      "Successfully installed contourpy-1.2.0 cycler-0.12.1 fonttools-4.47.2 kiwisolver-1.4.5 matplotlib-3.8.2 numpy-1.26.3 pillow-10.2.0 pyparsing-3.1.1\n",
      "Note: you may need to restart the kernel to use updated packages.\n"
     ]
    },
    {
     "name": "stderr",
     "output_type": "stream",
     "text": [
      "\n",
      "[notice] A new release of pip available: 22.3 -> 23.3.2\n",
      "[notice] To update, run: python.exe -m pip install --upgrade pip\n"
     ]
    }
   ],
   "source": [
    "pip install matplotlib"
   ]
  },
  {
   "cell_type": "code",
   "execution_count": 5,
   "id": "11567aaf-55e3-404e-b1ad-a0b0efb025e7",
   "metadata": {},
   "outputs": [],
   "source": [
    "import requests"
   ]
  },
  {
   "cell_type": "code",
   "execution_count": 12,
   "id": "6ed188cf-c8b6-486d-9e39-2bba4e621a74",
   "metadata": {},
   "outputs": [],
   "source": [
    "from bs4 import BeautifulSoup"
   ]
  },
  {
   "cell_type": "code",
   "execution_count": 13,
   "id": "0cc315d2-69ff-4452-862a-cf0d4cfefc89",
   "metadata": {},
   "outputs": [],
   "source": [
    "import csv"
   ]
  },
  {
   "cell_type": "code",
   "execution_count": 14,
   "id": "26bd6455-90ee-45a9-a542-9e948eb1942e",
   "metadata": {},
   "outputs": [],
   "source": [
    "import matplotlib.pyplot as plt"
   ]
  },
  {
   "cell_type": "markdown",
   "id": "04ee8c4a-909f-4560-80fc-e95024ff0f56",
   "metadata": {},
   "source": [
    "# Scraping Data"
   ]
  },
  {
   "cell_type": "code",
   "execution_count": 25,
   "id": "69c0ca5c-db16-438c-8a6c-97edbcf9be45",
   "metadata": {},
   "outputs": [],
   "source": [
    "def scrape_chess_ratings():\n",
    "    url = \"https://2700chess.com/\"  # Replace with the actual URL of the chess ratings page\n",
    "\n",
    "    response = requests.get(url)\n",
    "\n",
    "    if response.status_code == 200:\n",
    "        soup = BeautifulSoup(response.content, \"html.parser\")\n",
    "\n",
    "        player_names = soup.find_all(\"div\", class_=\"player-name\")[:10]\n",
    "        classical_ratings = soup.find_all(\"div\", class_=\"classical-rating\")[:10]\n",
    "        rapid_ratings = soup.find_all(\"div\", class_=\"rapid-rating\")[:10]\n",
    "        blitz_ratings = soup.find_all(\"div\", class_=\"blitz-rating\")[:10]\n",
    "\n",
    "        data = [(name.text.strip(), int(classical.text.strip()), int(rapid.text.strip()), int(blitz.text.strip()))\n",
    "                for name, classical, rapid, blitz in zip(player_names, classical_ratings, rapid_ratings, blitz_ratings)]\n",
    "\n",
    "        return data\n",
    "    else:\n",
    "        print(\"Failed to retrieve data. Status code:\", response.status_code)\n",
    "        return None\n"
   ]
  },
  {
   "cell_type": "code",
   "execution_count": 26,
   "id": "deef7432-c79c-43ac-abdc-c1ac2071d045",
   "metadata": {},
   "outputs": [],
   "source": [
    "# Saving to csv file"
   ]
  },
  {
   "cell_type": "code",
   "execution_count": 27,
   "id": "f4be2883-79c6-453b-8c8b-1e941f4daa3d",
   "metadata": {},
   "outputs": [],
   "source": [
    "def save_to_csv(data, filename=\"chess_ratings.csv\"):\n",
    "    with open(filename, mode=\"w\", newline=\"\", encoding=\"utf-8\") as file:\n",
    "        writer = csv.writer(file)\n",
    "        writer.writerow([\"Player Name\", \"Classical Rating\", \"Rapid Rating\", \"Blitz Rating\"])\n",
    "        writer.writerows(data)"
   ]
  },
  {
   "cell_type": "code",
   "execution_count": null,
   "id": "484aff2e-6a4b-41cb-b07c-0efbbc28c7e5",
   "metadata": {},
   "outputs": [],
   "source": []
  },
  {
   "cell_type": "code",
   "execution_count": null,
   "id": "f9c77234-1ec0-4eb6-bfbd-a32d4724200d",
   "metadata": {},
   "outputs": [],
   "source": []
  },
  {
   "cell_type": "code",
   "execution_count": null,
   "id": "42d2ab6f-fd75-41e2-80dc-254c5f114603",
   "metadata": {},
   "outputs": [],
   "source": []
  },
  {
   "cell_type": "code",
   "execution_count": null,
   "id": "8a4e6e66-136b-44f0-8e67-d3e9d3c7c7bc",
   "metadata": {},
   "outputs": [],
   "source": []
  },
  {
   "cell_type": "code",
   "execution_count": null,
   "id": "3a7f00e3-7734-4266-9ff4-63effa9a9b65",
   "metadata": {},
   "outputs": [],
   "source": []
  },
  {
   "cell_type": "code",
   "execution_count": null,
   "id": "3c49c9c1-0ed0-4d76-9f03-5c3503fb6064",
   "metadata": {},
   "outputs": [],
   "source": []
  },
  {
   "cell_type": "code",
   "execution_count": null,
   "id": "603b2985-7707-404c-a768-af9038726737",
   "metadata": {},
   "outputs": [],
   "source": []
  },
  {
   "cell_type": "code",
   "execution_count": null,
   "id": "fe656c3c-1dcf-4d0d-b897-76ce39eaf203",
   "metadata": {},
   "outputs": [],
   "source": []
  },
  {
   "cell_type": "code",
   "execution_count": null,
   "id": "c009691f-d9cd-4c00-a103-8f34217aef31",
   "metadata": {},
   "outputs": [],
   "source": []
  },
  {
   "cell_type": "code",
   "execution_count": null,
   "id": "dbe5df57-1a52-4aeb-9edd-67c095c15960",
   "metadata": {},
   "outputs": [],
   "source": []
  },
  {
   "cell_type": "code",
   "execution_count": null,
   "id": "c95986d8-1c68-4051-bb2f-6dd60918555a",
   "metadata": {},
   "outputs": [],
   "source": []
  }
 ],
 "metadata": {
  "kernelspec": {
   "display_name": "gmaster",
   "language": "python",
   "name": "gmaster"
  },
  "language_info": {
   "codemirror_mode": {
    "name": "ipython",
    "version": 3
   },
   "file_extension": ".py",
   "mimetype": "text/x-python",
   "name": "python",
   "nbconvert_exporter": "python",
   "pygments_lexer": "ipython3",
   "version": "3.11.0"
  }
 },
 "nbformat": 4,
 "nbformat_minor": 5
}
